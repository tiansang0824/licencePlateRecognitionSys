{
 "cells": [
  {
   "cell_type": "markdown",
   "source": [
    "# 对封装完毕的PlateLocator类进行测试\n",
    "\n"
   ],
   "metadata": {
    "collapsed": false
   },
   "id": "d817abc4ebf66a97"
  },
  {
   "cell_type": "code",
   "outputs": [],
   "source": [
    "from source import PlateLocator\n",
    "from source import ToolKit as toolKit\n",
    "\n",
    "import cv2 as cv\n"
   ],
   "metadata": {
    "collapsed": false,
    "ExecuteTime": {
     "end_time": "2024-01-19T07:01:45.361405300Z",
     "start_time": "2024-01-19T07:01:44.733372900Z"
    }
   },
   "id": "ae89781698f5ccdb",
   "execution_count": 1
  },
  {
   "cell_type": "code",
   "outputs": [],
   "source": [
    "original_image = cv.imread('../resources/test_plate.png')\n",
    "pl = PlateLocator.PlateLocator(original_image)\n"
   ],
   "metadata": {
    "collapsed": false,
    "ExecuteTime": {
     "end_time": "2024-01-19T07:01:45.371424500Z",
     "start_time": "2024-01-19T07:01:45.363503400Z"
    }
   },
   "id": "a976c52645e5a171",
   "execution_count": 2
  },
  {
   "cell_type": "code",
   "outputs": [
    {
     "ename": "error",
     "evalue": "OpenCV(4.9.0) D:\\a\\opencv-python\\opencv-python\\opencv\\modules\\imgproc\\src\\thresh.cpp:1555: error: (-2:Unspecified error) in function 'double __cdecl cv::threshold(const class cv::_InputArray &,const class cv::_OutputArray &,double,double,int)'\n> THRESH_OTSU mode:\n>     'src_type == CV_8UC1 || src_type == CV_16UC1'\n> where\n>     'src_type' is 16 (CV_8UC3)\n",
     "output_type": "error",
     "traceback": [
      "\u001B[1;31m---------------------------------------------------------------------------\u001B[0m",
      "\u001B[1;31merror\u001B[0m                                     Traceback (most recent call last)",
      "Cell \u001B[1;32mIn[4], line 1\u001B[0m\n\u001B[1;32m----> 1\u001B[0m \u001B[43mpl\u001B[49m\u001B[38;5;241;43m.\u001B[39;49m\u001B[43mpre_process\u001B[49m\u001B[43m(\u001B[49m\u001B[43m)\u001B[49m  \u001B[38;5;66;03m# 预处理\u001B[39;00m\n\u001B[0;32m      2\u001B[0m toolKit\u001B[38;5;241m.\u001B[39mshow_gray(\u001B[38;5;124m'\u001B[39m\u001B[38;5;124m第一次预处理\u001B[39m\u001B[38;5;124m'\u001B[39m,pl\u001B[38;5;241m.\u001B[39mimage_with_contour)\n\u001B[0;32m      3\u001B[0m pl\u001B[38;5;241m.\u001B[39mrotate_image()  \u001B[38;5;66;03m# 旋转车牌\u001B[39;00m\n",
      "File \u001B[1;32mD:\\project\\python\\licencePlateRecognitionSys\\source\\PlateLocator.py:135\u001B[0m, in \u001B[0;36mPlateLocator.pre_process\u001B[1;34m(self, original_image)\u001B[0m\n\u001B[0;32m    133\u001B[0m \u001B[38;5;28mself\u001B[39m\u001B[38;5;241m.\u001B[39medge_detect(original_image)\n\u001B[0;32m    134\u001B[0m \u001B[38;5;66;03m# 阈值处理\u001B[39;00m\n\u001B[1;32m--> 135\u001B[0m \u001B[38;5;28;43mself\u001B[39;49m\u001B[38;5;241;43m.\u001B[39;49m\u001B[43madaptive_threshold\u001B[49m\u001B[43m(\u001B[49m\u001B[43moriginal_image\u001B[49m\u001B[43m)\u001B[49m\n\u001B[0;32m    136\u001B[0m \u001B[38;5;66;03m# 闭运算、去除白点\u001B[39;00m\n\u001B[0;32m    137\u001B[0m \u001B[38;5;28mself\u001B[39m\u001B[38;5;241m.\u001B[39mclosed_operation(original_image)\n",
      "File \u001B[1;32mD:\\project\\python\\licencePlateRecognitionSys\\source\\PlateLocator.py:206\u001B[0m, in \u001B[0;36mPlateLocator.adaptive_threshold\u001B[1;34m(self, original_image)\u001B[0m\n\u001B[0;32m    203\u001B[0m     \u001B[38;5;28mprint\u001B[39m(\u001B[38;5;124m'\u001B[39m\u001B[38;5;124m出错：自适应阈值处理 没有有效图片源\u001B[39m\u001B[38;5;124m'\u001B[39m)\n\u001B[0;32m    204\u001B[0m     \u001B[38;5;28;01mreturn\u001B[39;00m\n\u001B[1;32m--> 206\u001B[0m ret, adaptive_image \u001B[38;5;241m=\u001B[39m \u001B[43mcv\u001B[49m\u001B[38;5;241;43m.\u001B[39;49m\u001B[43mthreshold\u001B[49m\u001B[43m(\u001B[49m\u001B[43moriginal_image\u001B[49m\u001B[43m,\u001B[49m\u001B[43m \u001B[49m\u001B[38;5;241;43m0\u001B[39;49m\u001B[43m,\u001B[49m\u001B[43m \u001B[49m\u001B[38;5;241;43m255\u001B[39;49m\u001B[43m,\u001B[49m\u001B[43m \u001B[49m\u001B[43mcv\u001B[49m\u001B[38;5;241;43m.\u001B[39;49m\u001B[43mTHRESH_OTSU\u001B[49m\u001B[43m)\u001B[49m\n\u001B[0;32m    207\u001B[0m \u001B[38;5;28mself\u001B[39m\u001B[38;5;241m.\u001B[39mret \u001B[38;5;241m=\u001B[39m ret\n\u001B[0;32m    208\u001B[0m \u001B[38;5;28mself\u001B[39m\u001B[38;5;241m.\u001B[39madaptive_image \u001B[38;5;241m=\u001B[39m adaptive_image\n",
      "\u001B[1;31merror\u001B[0m: OpenCV(4.9.0) D:\\a\\opencv-python\\opencv-python\\opencv\\modules\\imgproc\\src\\thresh.cpp:1555: error: (-2:Unspecified error) in function 'double __cdecl cv::threshold(const class cv::_InputArray &,const class cv::_OutputArray &,double,double,int)'\n> THRESH_OTSU mode:\n>     'src_type == CV_8UC1 || src_type == CV_16UC1'\n> where\n>     'src_type' is 16 (CV_8UC3)\n"
     ]
    }
   ],
   "source": [
    "pl.pre_process()  # 预处理\n",
    "toolKit.show_gray('第一次预处理',pl.image_with_contour)\n",
    "pl.rotate_image()  # 旋转车牌\n",
    "toolKit.show_color('旋转车牌', pl.rotated_image)\n",
    "# pl.pre_process(pl.rotated_image)  # 预处理\n",
    "# toolKit.show_gray('第二次预处理',pl.image_with_contour)\n",
    "pl.get_plate_image()  # 获取车牌区域\n",
    "toolKit.show_color('车牌区域', pl.plate_image)\n",
    "\n"
   ],
   "metadata": {
    "collapsed": false,
    "ExecuteTime": {
     "end_time": "2024-01-19T07:04:10.495413Z",
     "start_time": "2024-01-19T07:04:10.449288900Z"
    }
   },
   "id": "14a7601ce94cd1b",
   "execution_count": 4
  },
  {
   "cell_type": "code",
   "outputs": [],
   "source": [],
   "metadata": {
    "collapsed": false,
    "ExecuteTime": {
     "end_time": "2024-01-19T07:01:45.733179400Z",
     "start_time": "2024-01-19T07:01:45.732179Z"
    }
   },
   "id": "27943053334825b5"
  }
 ],
 "metadata": {
  "kernelspec": {
   "display_name": "Python 3",
   "language": "python",
   "name": "python3"
  },
  "language_info": {
   "codemirror_mode": {
    "name": "ipython",
    "version": 2
   },
   "file_extension": ".py",
   "mimetype": "text/x-python",
   "name": "python",
   "nbconvert_exporter": "python",
   "pygments_lexer": "ipython2",
   "version": "2.7.6"
  }
 },
 "nbformat": 4,
 "nbformat_minor": 5
}
